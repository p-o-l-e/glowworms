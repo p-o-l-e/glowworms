{
 "cells": [
  {
   "cell_type": "code",
   "execution_count": 1,
   "id": "cfbe3790-f652-4109-9a88-e73b37a8179d",
   "metadata": {},
   "outputs": [],
   "source": [
    "import cmath\n",
    "import numpy as np\n",
    "\n",
    "class Phasor:\n",
    "    def __init__(self):\n",
    "        self.mem = [0.0, 0.0]\n",
    "        self.pi = np.pi\n",
    "        self.tao = np.pi*2\n",
    "\n",
    "    def tick(self, phase, pwm, ahl = 0.5, ahr = 0.5, limit = 0.98):\n",
    "        # First half oscillator\n",
    "        oa = np.cos(phase + self.mem[0])\n",
    "        self.mem[0] = ahl * (oa + self.mem[0])  # anti-hunting filter\n",
    "\n",
    "        # Phase offset for PWM\n",
    "        pw = pwm * self.tao * limit - self.pi\n",
    "\n",
    "        # Second half oscillator\n",
    "        ob = np.cos(phase + self.mem[1] + pw)\n",
    "        self.mem[1] = ahr * (ob + self.mem[1])  # anti-hunting filter\n",
    "\n",
    "        return oa - ob\n",
    "\n",
    "\n",
    "        "
   ]
  },
  {
   "cell_type": "code",
   "execution_count": 2,
   "id": "623d8fd0-3940-4f2b-b2e7-b67b864b303d",
   "metadata": {},
   "outputs": [
    {
     "data": {
      "application/vnd.jupyter.widget-view+json": {
       "model_id": "85d95602914d4395b92f445c5eea7aae",
       "version_major": 2,
       "version_minor": 0
      },
      "text/plain": [
       "interactive(children=(FloatSlider(value=0.0, description='PWM', max=0.5, min=-0.5, step=0.01), FloatSlider(val…"
      ]
     },
     "metadata": {},
     "output_type": "display_data"
    },
    {
     "data": {
      "text/plain": [
       "<function __main__.plot_tomisawa(pwm=0.3, limit=0.98, ahl=0.5, ahr=0.5)>"
      ]
     },
     "execution_count": 2,
     "metadata": {},
     "output_type": "execute_result"
    }
   ],
   "source": [
    "import numpy as np\n",
    "import matplotlib.pyplot as plt\n",
    "from ipywidgets import interact, FloatSlider\n",
    "\n",
    "def plot_tomisawa(pwm=0.3, limit=0.98, ahl = 0.5, ahr = 0.5):\n",
    "    sample_rate = 44100\n",
    "    freq = 110\n",
    "    duration = 0.03\n",
    "    samples = int(sample_rate * duration)\n",
    "    theta = 2 * np.pi * freq / sample_rate\n",
    "    phase = -np.pi\n",
    "\n",
    "    osc = Phasor()\n",
    "    wave = np.zeros(samples, dtype=np.float32)\n",
    "\n",
    "    for i in range(samples):\n",
    "        phase += theta\n",
    "        if phase > np.pi:\n",
    "            phase -= 2 * np.pi\n",
    "        wave[i] = osc.tick(phase, pwm, ahl, ahr, limit)\n",
    "\n",
    "    wave *= 0.9 / np.max(np.abs(wave))  # normalize\n",
    "\n",
    "    # FFT\n",
    "    fft = np.fft.fft(wave)\n",
    "    freqs = np.fft.fftfreq(len(fft), 1/sample_rate)\n",
    "    spectrum = 20 * np.log10(np.abs(fft[:samples//2]) + 1e-6)\n",
    "\n",
    "    # Plot\n",
    "    fig, axs = plt.subplots(2, 1, figsize=(10, 5))\n",
    "    t = np.linspace(0, duration, samples)\n",
    "\n",
    "    axs[0].plot(t, wave)\n",
    "    axs[0].set_title(f\"Tomisawa PWM Waveform (PWM={pwm:.2f}, Limit={limit:.2f})\")\n",
    "    axs[0].set_xlabel(\"Time (s)\")\n",
    "    axs[0].set_ylabel(\"Amplitude\")\n",
    "    axs[0].grid(True)\n",
    "\n",
    "    axs[1].plot(freqs[:samples//2], spectrum)\n",
    "    axs[1].set_title(\"FFT Spectrum\")\n",
    "    axs[1].set_xlabel(\"Frequency (Hz)\")\n",
    "    axs[1].set_ylabel(\"Magnitude (dB)\")\n",
    "    axs[1].grid(True)\n",
    "\n",
    "    plt.tight_layout()\n",
    "    plt.show()\n",
    "\n",
    "interact(\n",
    "    plot_tomisawa,\n",
    "    pwm=FloatSlider(value=0.0, min=-0.5, max=0.5, step=0.01, description=\"PWM\"),\n",
    "    limit=FloatSlider(value=0.98, min=0.1, max=2.0, step=0.01, description=\"Limit\"),\n",
    "    ahl=FloatSlider(value=0.5, min=0.0, max=0.9, step=0.001, description=\"AHL\"),\n",
    "    ahr=FloatSlider(value=0.5, min=0.0, max=0.9, step=0.001, description=\"AHR\")\n",
    ")\n"
   ]
  }
 ],
 "metadata": {
  "kernelspec": {
   "display_name": "Python 3 (ipykernel)",
   "language": "python",
   "name": "python3"
  },
  "language_info": {
   "codemirror_mode": {
    "name": "ipython",
    "version": 3
   },
   "file_extension": ".py",
   "mimetype": "text/x-python",
   "name": "python",
   "nbconvert_exporter": "python",
   "pygments_lexer": "ipython3",
   "version": "3.13.7"
  }
 },
 "nbformat": 4,
 "nbformat_minor": 5
}
