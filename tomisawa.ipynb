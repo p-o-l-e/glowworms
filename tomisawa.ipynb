{
 "cells": [
  {
   "cell_type": "code",
   "execution_count": 1,
   "id": "07cc8e2c-cd16-4685-b391-d039f2273bcf",
   "metadata": {},
   "outputs": [],
   "source": [
    "def triangle(x, f = 0.1):\n",
    "    return np.acos((1.0 - f) * np.cos(x)) - np.pi * 0.5"
   ]
  },
  {
   "cell_type": "code",
   "execution_count": 2,
   "id": "cfbe3790-f652-4109-9a88-e73b37a8179d",
   "metadata": {},
   "outputs": [],
   "source": [
    "# import cmath\n",
    "import numpy as np\n",
    "\n",
    "class Phasor:\n",
    "    def __init__(self, func = triangle):\n",
    "        self.mem = [0.0, 0.0]\n",
    "        self.pi = np.pi\n",
    "        self.tao = np.pi*2\n",
    "        self.f = func\n",
    "        \n",
    "    def tick(self, phase, pwm, sl = 0.5, sr = 0.5, sat = 0.6):\n",
    "        # First half oscillator\n",
    "        oa = self.f(phase + self.mem[0], sat)\n",
    "        self.mem[0] = sl * (oa + self.mem[0])  # anti-hunting filter\n",
    "\n",
    "        # Phase offset for PWM [-0.49 ... 0.49]\n",
    "        pw = pwm * self.tao - self.pi\n",
    "\n",
    "        # Second half oscillator\n",
    "        ob = self.f(phase + self.mem[1] + pw, sat)\n",
    "        self.mem[1] = sr * (ob + self.mem[1])  # anti-hunting filter\n",
    "\n",
    "        return oa - ob\n",
    "\n",
    "\n",
    "        "
   ]
  },
  {
   "cell_type": "code",
   "execution_count": 3,
   "id": "623d8fd0-3940-4f2b-b2e7-b67b864b303d",
   "metadata": {},
   "outputs": [
    {
     "data": {
      "application/vnd.jupyter.widget-view+json": {
       "model_id": "61cb334fcc774193bb6c709b2030b371",
       "version_major": 2,
       "version_minor": 0
      },
      "text/plain": [
       "interactive(children=(FloatSlider(value=0.0, description='PWM', max=0.49, min=-0.49, step=0.01), FloatSlider(v…"
      ]
     },
     "metadata": {},
     "output_type": "display_data"
    },
    {
     "data": {
      "text/plain": [
       "<function __main__.plot_tomisawa(pwm=0.3, ahl=0.5, ahr=0.5, sat=0.6)>"
      ]
     },
     "execution_count": 3,
     "metadata": {},
     "output_type": "execute_result"
    }
   ],
   "source": [
    "import numpy as np\n",
    "import matplotlib.pyplot as plt\n",
    "from ipywidgets import interact, FloatSlider\n",
    "from IPython.display import Audio\n",
    "\n",
    "def plot_tomisawa(pwm=0.3, ahl = 0.5, ahr = 0.5, sat = 0.6):\n",
    "    sample_rate = 44100\n",
    "    freq = 110\n",
    "    duration = 0.03\n",
    "    samples = int(sample_rate * duration)\n",
    "    theta = 2 * np.pi * freq / sample_rate\n",
    "    phase = -np.pi\n",
    "\n",
    "    osc = Phasor()\n",
    "    wave = np.zeros(samples, dtype=np.float32)\n",
    "\n",
    "    for i in range(samples):\n",
    "        phase += theta\n",
    "        if phase > np.pi:\n",
    "            phase -= 2 * np.pi\n",
    "        wave[i] = osc.tick(phase, pwm, ahl, ahr, sat)\n",
    "\n",
    "    wave *= 0.9 / np.max(np.abs(wave))  # normalize\n",
    "\n",
    "    # FFT\n",
    "    fft = np.fft.fft(wave)\n",
    "    freqs = np.fft.fftfreq(len(fft), 1/sample_rate)\n",
    "    spectrum = 20 * np.log10(np.abs(fft[:samples//4]) + 1e-6)\n",
    "\n",
    "    # Plot\n",
    "    fig, axs = plt.subplots(2, 1, figsize=(10, 5))\n",
    "    t = np.linspace(0, duration, samples)\n",
    "\n",
    "    axs[0].plot(t, wave)\n",
    "    axs[0].set_title(f\"Tomisawa PWM Waveform (PWM={pwm:.2f})\")\n",
    "    axs[0].set_xlabel(\"Time (s)\")\n",
    "    axs[0].set_ylabel(\"Amplitude\")\n",
    "    axs[0].grid(True)\n",
    "\n",
    "    axs[1].plot(freqs[:samples//4], spectrum)\n",
    "    axs[1].set_title(\"FFT Spectrum\")\n",
    "    axs[1].set_xlabel(\"Frequency (Hz)\")\n",
    "    axs[1].set_ylabel(\"Magnitude (dB)\")\n",
    "    axs[1].grid(True)\n",
    "\n",
    "    plt.tight_layout()\n",
    "    plt.show()\n",
    "\n",
    "interact(\n",
    "    plot_tomisawa,\n",
    "    pwm=FloatSlider(value=0.0, min=-0.49, max=0.49, step=0.01, description=\"PWM\"),\n",
    "    ahl=FloatSlider(value=0.5, min=-0.9, max=0.9, step=0.001, description=\"AHL\"),\n",
    "    ahr=FloatSlider(value=0.5, min=-0.9, max=0.9, step=0.001, description=\"AHR\"),\n",
    "    sat=FloatSlider(value=0.5, min=0.001, max=0.6, step=0.001, description=\"Saturation\")\n",
    ")\n"
   ]
  }
 ],
 "metadata": {
  "kernelspec": {
   "display_name": "Python 3 (ipykernel)",
   "language": "python",
   "name": "python3"
  },
  "language_info": {
   "codemirror_mode": {
    "name": "ipython",
    "version": 3
   },
   "file_extension": ".py",
   "mimetype": "text/x-python",
   "name": "python",
   "nbconvert_exporter": "python",
   "pygments_lexer": "ipython3",
   "version": "3.13.7"
  }
 },
 "nbformat": 4,
 "nbformat_minor": 5
}
